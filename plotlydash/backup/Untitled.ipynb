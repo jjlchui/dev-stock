{
 "cells": [
  {
   "cell_type": "code",
   "execution_count": null,
   "id": "fd3b0780",
   "metadata": {},
   "outputs": [],
   "source": [
    "def bs_count(df,a, as1, idx):\n",
    "    \n",
    "    chk_repeat=[np.nan]\n",
    "    for i in range(idx, len(a)):\n",
    "        if (((a[i+1] + as1[i] > 1) | \n",
    "            (a[i+1] + as1[i] < -1))|\n",
    "            ((a[i+1] == 0) & (as1[i] == 1)) | \n",
    "            ((a[i+1] == 0) & (as1[i] == -1)) \n",
    "            ):\n",
    "                df.loc[i, 'as1'] = df.loc[i-1, 'as1']\n",
    "                chk_repeat.append(np.nan)\n",
    "\n",
    "        elif (((a[i+1] == 1) & (as1[i] == 0)) | \n",
    "             ((a[i+1] == -1) & (as1[i] == 0)) |\n",
    "              ((a[i+1] == 0) & (as1[i] == 0))\n",
    "             ):\n",
    "                df.loc[i, 'as1'] = df.loc(axis=0)[i, 'a']\n",
    "                chk_repeat.append(df.as1[i])\n",
    "    \n",
    "        elif (((a[i+1] == 1) & (as1[i] == -1)) | \n",
    "             ((a[i+1] == -1) & (as1[i] == 1)) \n",
    "             ):\n",
    "                df.loc[i, 'as1'] = 0\n",
    "                chk_repeat.append(df.as1[i])\n",
    "    \n",
    "        else:\n",
    "                print(i,'nothing', a[i+1], as1[i])\n",
    "                chk_repeat.append(np.nan)\n",
    "        \n",
    "    return chk_repeat"
   ]
  }
 ],
 "metadata": {
  "kernelspec": {
   "display_name": "Python 3 (ipykernel)",
   "language": "python",
   "name": "python3"
  },
  "language_info": {
   "codemirror_mode": {
    "name": "ipython",
    "version": 3
   },
   "file_extension": ".py",
   "mimetype": "text/x-python",
   "name": "python",
   "nbconvert_exporter": "python",
   "pygments_lexer": "ipython3",
   "version": "3.8.13"
  }
 },
 "nbformat": 4,
 "nbformat_minor": 5
}
